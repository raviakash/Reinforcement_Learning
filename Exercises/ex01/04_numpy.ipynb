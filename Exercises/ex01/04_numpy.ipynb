{
  "cells": [
    {
      "cell_type": "markdown",
      "metadata": {
        "id": "hYcI1n1XRo-Q"
      },
      "source": [
        "# Numpy"
      ]
    },
    {
      "cell_type": "markdown",
      "metadata": {
        "id": "Hpn2wdDiRo-Z"
      },
      "source": [
        "Documentation: https://docs.scipy.org/doc/numpy/reference/routines.html\n",
        "\n",
        "Official Website: http://www.numpy.org/\n",
        "\n",
        "Intro to Numpy: [Youtube Video](https://www.youtube.com/embed/rN0TREj8G7U)"
      ]
    },
    {
      "cell_type": "markdown",
      "metadata": {
        "id": "GKrXS-WERo-a"
      },
      "source": [
        "## Import NumPy package"
      ]
    },
    {
      "cell_type": "code",
      "execution_count": 1,
      "metadata": {
        "id": "XcNAsHrVRo-b"
      },
      "outputs": [],
      "source": [
        "import os"
      ]
    },
    {
      "cell_type": "code",
      "execution_count": 2,
      "metadata": {
        "id": "bNXCwgMgRo-d"
      },
      "outputs": [],
      "source": [
        "import numpy as np"
      ]
    },
    {
      "cell_type": "markdown",
      "metadata": {
        "id": "BVG3M2B4Ro-e"
      },
      "source": [
        "## Arrays"
      ]
    },
    {
      "cell_type": "code",
      "execution_count": 3,
      "metadata": {
        "colab": {
          "base_uri": "https://localhost:8080/"
        },
        "id": "6lkstkDFRo-e",
        "outputId": "6ee8473a-c060-49f2-e1e7-9821640910cd"
      },
      "outputs": [
        {
          "output_type": "execute_result",
          "data": {
            "text/plain": [
              "array([2, 3, 4])"
            ]
          },
          "metadata": {},
          "execution_count": 3
        }
      ],
      "source": [
        "a = np.array([2,3,4])\n",
        "a"
      ]
    },
    {
      "cell_type": "code",
      "execution_count": 4,
      "metadata": {
        "colab": {
          "base_uri": "https://localhost:8080/"
        },
        "id": "mI72pYtJRo-g",
        "outputId": "6ff9bdac-352c-4380-d7ec-8aec3cfc9a90"
      },
      "outputs": [
        {
          "output_type": "execute_result",
          "data": {
            "text/plain": [
              "dtype('int64')"
            ]
          },
          "metadata": {},
          "execution_count": 4
        }
      ],
      "source": [
        "# data type\n",
        "\n",
        "a.dtype"
      ]
    },
    {
      "cell_type": "code",
      "execution_count": 5,
      "metadata": {
        "colab": {
          "base_uri": "https://localhost:8080/"
        },
        "id": "MlR668awRo-h",
        "outputId": "e9da577f-b17f-4aec-a7d4-d40f80d0785e"
      },
      "outputs": [
        {
          "output_type": "execute_result",
          "data": {
            "text/plain": [
              "array([2.5, 3.1, 4.3])"
            ]
          },
          "metadata": {},
          "execution_count": 5
        }
      ],
      "source": [
        "b = np.array([2.5,3.1,4.3])\n",
        "b"
      ]
    },
    {
      "cell_type": "code",
      "execution_count": 6,
      "metadata": {
        "colab": {
          "base_uri": "https://localhost:8080/"
        },
        "id": "tT72uPbfRo-j",
        "outputId": "b73d54de-dd18-48c9-ee74-bc80b8614fb5"
      },
      "outputs": [
        {
          "output_type": "execute_result",
          "data": {
            "text/plain": [
              "dtype('float64')"
            ]
          },
          "metadata": {},
          "execution_count": 6
        }
      ],
      "source": [
        "# data type\n",
        "\n",
        "b.dtype"
      ]
    },
    {
      "cell_type": "code",
      "execution_count": 7,
      "metadata": {
        "colab": {
          "base_uri": "https://localhost:8080/"
        },
        "id": "YDsJF-p5Ro-k",
        "outputId": "75e63939-7d29-477c-94aa-37fdcebe9e96"
      },
      "outputs": [
        {
          "output_type": "execute_result",
          "data": {
            "text/plain": [
              "array([[1. , 2. , 3.5],\n",
              "       [4. , 5.2, 6. ]])"
            ]
          },
          "metadata": {},
          "execution_count": 7
        }
      ],
      "source": [
        "c = np.array([(1, 2, 3.5), (4, 5.2, 6)])\n",
        "c"
      ]
    },
    {
      "cell_type": "code",
      "execution_count": 8,
      "metadata": {
        "colab": {
          "base_uri": "https://localhost:8080/"
        },
        "id": "faZCRatvRo-l",
        "outputId": "e02f4e88-c6c2-4fc7-8640-d1d59088a141"
      },
      "outputs": [
        {
          "output_type": "execute_result",
          "data": {
            "text/plain": [
              "array([[0., 0., 0., 0.],\n",
              "       [0., 0., 0., 0.],\n",
              "       [0., 0., 0., 0.]])"
            ]
          },
          "metadata": {},
          "execution_count": 8
        }
      ],
      "source": [
        "# create an array with zeros\n",
        "\n",
        "np.zeros((3,4))"
      ]
    },
    {
      "cell_type": "code",
      "execution_count": 9,
      "metadata": {
        "colab": {
          "base_uri": "https://localhost:8080/"
        },
        "id": "Oo58-igHRo-l",
        "outputId": "df547057-b3d4-4dc7-80e1-4a71460e3f69"
      },
      "outputs": [
        {
          "output_type": "execute_result",
          "data": {
            "text/plain": [
              "array([[[1, 1, 1, 1],\n",
              "        [1, 1, 1, 1],\n",
              "        [1, 1, 1, 1]],\n",
              "\n",
              "       [[1, 1, 1, 1],\n",
              "        [1, 1, 1, 1],\n",
              "        [1, 1, 1, 1]]], dtype=int16)"
            ]
          },
          "metadata": {},
          "execution_count": 9
        }
      ],
      "source": [
        "# create an array with ones\n",
        "\n",
        "np.ones((2,3,4), dtype=np.int16)    "
      ]
    },
    {
      "cell_type": "code",
      "execution_count": 10,
      "metadata": {
        "colab": {
          "base_uri": "https://localhost:8080/"
        },
        "id": "wByhUYp2Ro-m",
        "outputId": "945aa409-5c62-4ea2-e233-2a47279a388a"
      },
      "outputs": [
        {
          "output_type": "execute_result",
          "data": {
            "text/plain": [
              "array([0. , 0.5, 1. , 1.5, 2. , 2.5, 3. , 3.5, 4. , 4.5])"
            ]
          },
          "metadata": {},
          "execution_count": 10
        }
      ],
      "source": [
        "np.arange(0, 5, 0.5)"
      ]
    },
    {
      "cell_type": "code",
      "execution_count": 11,
      "metadata": {
        "colab": {
          "base_uri": "https://localhost:8080/"
        },
        "id": "KbnSotG-Ro-n",
        "outputId": "b73fac3d-b578-46bb-82c1-3f83b137a77b"
      },
      "outputs": [
        {
          "output_type": "execute_result",
          "data": {
            "text/plain": [
              "array([10, 11, 12, 13, 14, 15, 16, 17, 18, 19])"
            ]
          },
          "metadata": {},
          "execution_count": 11
        }
      ],
      "source": [
        "np.arange(10, 20)"
      ]
    },
    {
      "cell_type": "code",
      "execution_count": 12,
      "metadata": {
        "colab": {
          "base_uri": "https://localhost:8080/"
        },
        "id": "9AXuBBvbRo-o",
        "outputId": "533dfdba-a161-44e7-97e7-0dd189afbf9b"
      },
      "outputs": [
        {
          "output_type": "execute_result",
          "data": {
            "text/plain": [
              "array([0, 1, 2, 3])"
            ]
          },
          "metadata": {},
          "execution_count": 12
        }
      ],
      "source": [
        "np.arange(4)"
      ]
    },
    {
      "cell_type": "code",
      "execution_count": 13,
      "metadata": {
        "colab": {
          "base_uri": "https://localhost:8080/"
        },
        "id": "3Fk6adyURo-o",
        "outputId": "56bdc66d-2a1b-4eb9-c3b1-592f781f4953"
      },
      "outputs": [
        {
          "output_type": "execute_result",
          "data": {
            "text/plain": [
              "array([0.  , 0.25, 0.5 , 0.75, 1.  , 1.25, 1.5 , 1.75, 2.  ])"
            ]
          },
          "metadata": {},
          "execution_count": 13
        }
      ],
      "source": [
        "np.linspace(0, 2, 9) "
      ]
    },
    {
      "cell_type": "markdown",
      "metadata": {
        "id": "6nDhSZ80Ro-p"
      },
      "source": [
        "## Basic operations"
      ]
    },
    {
      "cell_type": "code",
      "execution_count": 14,
      "metadata": {
        "id": "Xo2g1MfARo-p"
      },
      "outputs": [],
      "source": [
        "a = np.arange(5)\n",
        "b = np.linspace(1, 10, 5)"
      ]
    },
    {
      "cell_type": "code",
      "execution_count": 15,
      "metadata": {
        "colab": {
          "base_uri": "https://localhost:8080/"
        },
        "id": "-Goc_MwGRo-q",
        "outputId": "cc5b09e3-e151-46db-e5d2-083fcc63dd07"
      },
      "outputs": [
        {
          "output_type": "stream",
          "name": "stdout",
          "text": [
            "[0 1 2 3 4]\n"
          ]
        }
      ],
      "source": [
        "print(a)"
      ]
    },
    {
      "cell_type": "code",
      "execution_count": 16,
      "metadata": {
        "colab": {
          "base_uri": "https://localhost:8080/"
        },
        "id": "6j7XkYL_Ro-q",
        "outputId": "47cc79af-1083-4e0d-a286-6c773040d193"
      },
      "outputs": [
        {
          "output_type": "stream",
          "name": "stdout",
          "text": [
            "[ 1.    3.25  5.5   7.75 10.  ]\n"
          ]
        }
      ],
      "source": [
        "print(b)"
      ]
    },
    {
      "cell_type": "code",
      "execution_count": 17,
      "metadata": {
        "colab": {
          "base_uri": "https://localhost:8080/"
        },
        "id": "Z0mbvWkLRo-r",
        "outputId": "8acf0f22-85b7-462f-8013-e0d977ae2f65"
      },
      "outputs": [
        {
          "output_type": "stream",
          "name": "stdout",
          "text": [
            "[1.   2.25 3.5  4.75 6.  ]\n"
          ]
        }
      ],
      "source": [
        "c = b - a\n",
        "print(c)"
      ]
    },
    {
      "cell_type": "code",
      "execution_count": 18,
      "metadata": {
        "colab": {
          "base_uri": "https://localhost:8080/"
        },
        "id": "rGL-Ed0HRo-s",
        "outputId": "7e751091-40e8-4933-fefb-30c40e4fc70b"
      },
      "outputs": [
        {
          "output_type": "stream",
          "name": "stdout",
          "text": [
            "[  1.      10.5625  30.25    60.0625 100.    ]\n"
          ]
        }
      ],
      "source": [
        "# b to the power of two\n",
        "\n",
        "d = b**2\n",
        "print(d)"
      ]
    },
    {
      "cell_type": "code",
      "execution_count": 19,
      "metadata": {
        "colab": {
          "base_uri": "https://localhost:8080/"
        },
        "id": "TJPCnmuARo-s",
        "outputId": "a07953ce-7ba7-4830-846e-f662cc97349b"
      },
      "outputs": [
        {
          "output_type": "stream",
          "name": "stdout",
          "text": [
            "[ 1.68294197 -0.21639027 -1.41108065  1.98919756 -1.08804222]\n"
          ]
        }
      ],
      "source": [
        "e = 2 * np.sin(b)\n",
        "print(e)"
      ]
    },
    {
      "cell_type": "code",
      "execution_count": 20,
      "metadata": {
        "colab": {
          "base_uri": "https://localhost:8080/"
        },
        "id": "EZUwxS22Ro-t",
        "outputId": "686cf386-63f1-4f17-eafa-f6b615857082"
      },
      "outputs": [
        {
          "output_type": "stream",
          "name": "stdout",
          "text": [
            "[ True  True False False False]\n"
          ]
        }
      ],
      "source": [
        "# boolean data type\n",
        "\n",
        "f = b<4\n",
        "print(f)"
      ]
    },
    {
      "cell_type": "code",
      "execution_count": 21,
      "metadata": {
        "colab": {
          "base_uri": "https://localhost:8080/"
        },
        "id": "QIzEMPn5Ro-t",
        "outputId": "b629fec9-e49a-45f3-df79-788879c003a4"
      },
      "outputs": [
        {
          "output_type": "stream",
          "name": "stdout",
          "text": [
            "-1.4110806511407838\n"
          ]
        }
      ],
      "source": [
        "# find the minimum of the array\n",
        "\n",
        "print(e.min())"
      ]
    },
    {
      "cell_type": "code",
      "execution_count": 22,
      "metadata": {
        "colab": {
          "base_uri": "https://localhost:8080/"
        },
        "id": "E-LOna95Ro-u",
        "outputId": "6e6b17bf-ad0f-48d3-ffcd-54e20ced5c88"
      },
      "outputs": [
        {
          "output_type": "stream",
          "name": "stdout",
          "text": [
            "1.9891975582223522\n"
          ]
        }
      ],
      "source": [
        "# find the maximum of the array\n",
        "\n",
        "print(e.max())"
      ]
    },
    {
      "cell_type": "code",
      "execution_count": 23,
      "metadata": {
        "colab": {
          "base_uri": "https://localhost:8080/"
        },
        "id": "AEZof2L3Ro-u",
        "outputId": "bc720ad4-30c4-4d8d-a503-10ab96ca03a6"
      },
      "outputs": [
        {
          "output_type": "stream",
          "name": "stdout",
          "text": [
            "0.9566263858584052\n"
          ]
        }
      ],
      "source": [
        "# sum all of the entries of the array\n",
        "\n",
        "print(e.sum())"
      ]
    },
    {
      "cell_type": "code",
      "execution_count": 24,
      "metadata": {
        "colab": {
          "base_uri": "https://localhost:8080/"
        },
        "id": "G-aU2bRaRo-v",
        "outputId": "e05e1070-d57d-4177-8c8a-b3269d34b932"
      },
      "outputs": [
        {
          "output_type": "stream",
          "name": "stdout",
          "text": [
            "0.19132527717168105\n"
          ]
        }
      ],
      "source": [
        "# calculate the mean of the array\n",
        "\n",
        "print(e.mean())"
      ]
    },
    {
      "cell_type": "markdown",
      "metadata": {
        "id": "j_KIUV7DRo-v"
      },
      "source": [
        "## Indexing, Slicing, Iterating"
      ]
    },
    {
      "cell_type": "code",
      "execution_count": 25,
      "metadata": {
        "colab": {
          "base_uri": "https://localhost:8080/"
        },
        "id": "FiLrrGf6Ro-w",
        "outputId": "f170085c-27dd-4698-f64c-48d8671bd82e"
      },
      "outputs": [
        {
          "output_type": "stream",
          "name": "stdout",
          "text": [
            "[[ 5.   1.   9.   3. ]\n",
            " [ 8.   1.  26.   3.4]\n",
            " [45.   9.5  2.  13. ]]\n"
          ]
        }
      ],
      "source": [
        "a = np.array([(5,1,9,3), (8,1,26,3.4), (45,9.5,2,13)])\n",
        "print(a)"
      ]
    },
    {
      "cell_type": "code",
      "execution_count": 26,
      "metadata": {
        "colab": {
          "base_uri": "https://localhost:8080/"
        },
        "id": "rQOJoSHZRo-w",
        "outputId": "dcca302f-7d69-4b76-ebc2-fe610367ab07"
      },
      "outputs": [
        {
          "output_type": "execute_result",
          "data": {
            "text/plain": [
              "2.0"
            ]
          },
          "metadata": {},
          "execution_count": 26
        }
      ],
      "source": [
        "# get a single entry from the array\n",
        "a[2,2]"
      ]
    },
    {
      "cell_type": "code",
      "execution_count": 31,
      "metadata": {
        "colab": {
          "base_uri": "https://localhost:8080/"
        },
        "id": "BZWuA-HaRo-x",
        "outputId": "11c45f1c-9e83-4469-fbef-0bfd67581d19"
      },
      "outputs": [
        {
          "output_type": "execute_result",
          "data": {
            "text/plain": [
              "array([ 8. ,  1. , 26. ,  3.4])"
            ]
          },
          "metadata": {},
          "execution_count": 31
        }
      ],
      "source": [
        "# get a row from the array\n",
        "a[1, :]"
      ]
    },
    {
      "cell_type": "code",
      "execution_count": 28,
      "metadata": {
        "colab": {
          "base_uri": "https://localhost:8080/"
        },
        "id": "thaxI4c6Ro-x",
        "outputId": "ccd17384-f895-44a8-be1b-97165654b403"
      },
      "outputs": [
        {
          "output_type": "execute_result",
          "data": {
            "text/plain": [
              "array([1. , 1. , 9.5])"
            ]
          },
          "metadata": {},
          "execution_count": 28
        }
      ],
      "source": [
        "# get a column from the array\n",
        "\n",
        "a[:, 1]"
      ]
    },
    {
      "cell_type": "code",
      "execution_count": 29,
      "metadata": {
        "colab": {
          "base_uri": "https://localhost:8080/"
        },
        "id": "KM0lmPKeRo-y",
        "outputId": "77ce4a11-38ee-45d3-a619-3503a9372949"
      },
      "outputs": [
        {
          "output_type": "stream",
          "name": "stdout",
          "text": [
            "[5. 1. 9. 3.]\n",
            "[ 8.   1.  26.   3.4]\n",
            "[45.   9.5  2.  13. ]\n"
          ]
        }
      ],
      "source": [
        "for row in a:\n",
        "    print(row)"
      ]
    },
    {
      "cell_type": "code",
      "execution_count": 30,
      "metadata": {
        "colab": {
          "base_uri": "https://localhost:8080/"
        },
        "id": "NGEmUHG6Ro-y",
        "outputId": "97b2fd5a-bfd1-4756-e871-ae6971176433"
      },
      "outputs": [
        {
          "output_type": "stream",
          "name": "stdout",
          "text": [
            "8.0\n",
            "1.0\n",
            "26.0\n",
            "3.4\n"
          ]
        }
      ],
      "source": [
        "for entry in a[1, :]:\n",
        "    print(entry)"
      ]
    },
    {
      "cell_type": "markdown",
      "metadata": {
        "id": "XToN2zN8Ro-z"
      },
      "source": [
        "## Shape"
      ]
    },
    {
      "cell_type": "code",
      "execution_count": 32,
      "metadata": {
        "colab": {
          "base_uri": "https://localhost:8080/"
        },
        "id": "Npuz2iVDRo-z",
        "outputId": "c2a5dcc5-8017-47b8-a4cd-4e4c69cdc6ea"
      },
      "outputs": [
        {
          "output_type": "execute_result",
          "data": {
            "text/plain": [
              "(3, 4)"
            ]
          },
          "metadata": {},
          "execution_count": 32
        }
      ],
      "source": [
        "a.shape"
      ]
    },
    {
      "cell_type": "markdown",
      "metadata": {
        "id": "A3gKpVHYRo-z"
      },
      "source": [
        "## Linear Algebra\n",
        "\n",
        "https://docs.scipy.org/doc/numpy/reference/routines.linalg.html"
      ]
    },
    {
      "cell_type": "code",
      "execution_count": 43,
      "metadata": {
        "colab": {
          "base_uri": "https://localhost:8080/"
        },
        "id": "3IzhSrcwRo-0",
        "outputId": "2050ce44-d367-4c36-ab4e-bb57f6faeaa3"
      },
      "outputs": [
        {
          "output_type": "execute_result",
          "data": {
            "text/plain": [
              "array([ 2. ,  3.5,  5. ,  6.5,  8. ,  9.5, 11. , 12.5, 14. , 15.5, 17. ,\n",
              "       18.5])"
            ]
          },
          "metadata": {},
          "execution_count": 43
        }
      ],
      "source": [
        "vector = np.arange(2, 20, 1.5)\n",
        "vector"
      ]
    },
    {
      "cell_type": "code",
      "execution_count": 44,
      "metadata": {
        "colab": {
          "base_uri": "https://localhost:8080/"
        },
        "id": "fQVyxNUURo-0",
        "outputId": "3ed17de4-acca-45c3-c6b1-3742e40c70e6"
      },
      "outputs": [
        {
          "output_type": "execute_result",
          "data": {
            "text/plain": [
              "array([[ 2. ,  3.5,  5. ,  6.5],\n",
              "       [ 8. ,  9.5, 11. , 12.5],\n",
              "       [14. , 15.5, 17. , 18.5]])"
            ]
          },
          "metadata": {},
          "execution_count": 44
        }
      ],
      "source": [
        "matrix = vector.reshape(3, 4)\n",
        "matrix"
      ]
    },
    {
      "cell_type": "code",
      "execution_count": 45,
      "metadata": {
        "colab": {
          "base_uri": "https://localhost:8080/"
        },
        "id": "yxZ7yfOcRo-1",
        "outputId": "bd49cce8-8a4a-4525-d5fe-6a8f9c109817"
      },
      "outputs": [
        {
          "output_type": "execute_result",
          "data": {
            "text/plain": [
              "39.78064856183217"
            ]
          },
          "metadata": {},
          "execution_count": 45
        }
      ],
      "source": [
        "# calculate the norm of the vector\n",
        "\n",
        "np.linalg.norm(vector)"
      ]
    },
    {
      "cell_type": "code",
      "execution_count": 46,
      "metadata": {
        "colab": {
          "base_uri": "https://localhost:8080/"
        },
        "id": "66tbPl5PRo-1",
        "outputId": "3d469941-88a2-43ff-9e2e-ff6ceff52599"
      },
      "outputs": [
        {
          "output_type": "execute_result",
          "data": {
            "text/plain": [
              "array([16.24807681, 18.51350858, 20.85665361, 23.25403191])"
            ]
          },
          "metadata": {},
          "execution_count": 46
        }
      ],
      "source": [
        "# calculate the norm of the matrix\n",
        "\n",
        "np.linalg.norm(matrix, axis=0)"
      ]
    },
    {
      "cell_type": "code",
      "execution_count": 47,
      "metadata": {
        "colab": {
          "base_uri": "https://localhost:8080/"
        },
        "id": "zpXVfKaoRo-2",
        "outputId": "a887ca63-e0c7-4917-c551-1f48190f47d6"
      },
      "outputs": [
        {
          "output_type": "execute_result",
          "data": {
            "text/plain": [
              "array([2., 3.])"
            ]
          },
          "metadata": {},
          "execution_count": 47
        }
      ],
      "source": [
        "# solve a linear equation system m * x = n\n",
        "\n",
        "m = np.array([[3,1], [1,2]])\n",
        "n = np.array([9,8])\n",
        "x = np.linalg.solve(m, n)\n",
        "x"
      ]
    },
    {
      "cell_type": "markdown",
      "metadata": {
        "id": "ViMKDhBaRo-2"
      },
      "source": [
        "## Random Sampling\n",
        "\n",
        "https://docs.scipy.org/doc/numpy/reference/routines.random.html"
      ]
    },
    {
      "cell_type": "code",
      "execution_count": 48,
      "metadata": {
        "colab": {
          "base_uri": "https://localhost:8080/"
        },
        "id": "fGxoGvrhRo-2",
        "outputId": "fba411c5-53da-460b-8ae8-3aa38c0ca570"
      },
      "outputs": [
        {
          "output_type": "execute_result",
          "data": {
            "text/plain": [
              "1.223815960303483"
            ]
          },
          "metadata": {},
          "execution_count": 48
        }
      ],
      "source": [
        "# Return a sample (or samples) from the “standard normal” distribution\n",
        "\n",
        "np.random.randn()"
      ]
    },
    {
      "cell_type": "code",
      "execution_count": 49,
      "metadata": {
        "colab": {
          "base_uri": "https://localhost:8080/"
        },
        "id": "ftm9zpIMRo-3",
        "outputId": "ac9ad39f-52d4-4e28-ffe6-bfc9af389c22"
      },
      "outputs": [
        {
          "output_type": "execute_result",
          "data": {
            "text/plain": [
              "array([-0.25147903, -0.98707742,  0.12722228,  0.56309361, -1.26065689,\n",
              "        1.7571038 , -0.45979736, -1.04750814,  1.84956553,  0.02651648])"
            ]
          },
          "metadata": {},
          "execution_count": 49
        }
      ],
      "source": [
        "np.random.randn(10)"
      ]
    },
    {
      "cell_type": "code",
      "execution_count": 50,
      "metadata": {
        "colab": {
          "base_uri": "https://localhost:8080/"
        },
        "id": "ibBq4JBNRo-4",
        "outputId": "2402b2fa-e486-4ef0-8e80-4427e32427d0"
      },
      "outputs": [
        {
          "output_type": "execute_result",
          "data": {
            "text/plain": [
              "array([[-1.78405058,  0.23705275, -0.21651596, -1.32898632, -0.72093953],\n",
              "       [-0.43064917,  0.52520615,  1.52102522, -1.70862013, -1.6989161 ],\n",
              "       [-1.09347557, -0.7107157 , -0.49761515,  1.37676542, -2.19930759]])"
            ]
          },
          "metadata": {},
          "execution_count": 50
        }
      ],
      "source": [
        "np.random.randn(3, 5)"
      ]
    },
    {
      "cell_type": "code",
      "execution_count": 51,
      "metadata": {
        "colab": {
          "base_uri": "https://localhost:8080/"
        },
        "id": "EOfzDjBFRo-4",
        "outputId": "0782b9a5-7d0c-4ab4-bb40-2290786ac26a"
      },
      "outputs": [
        {
          "output_type": "execute_result",
          "data": {
            "text/plain": [
              "1"
            ]
          },
          "metadata": {},
          "execution_count": 51
        }
      ],
      "source": [
        "# Return random integers from low (inclusive) to high (exclusive)\n",
        "\n",
        "np.random.randint(5)"
      ]
    },
    {
      "cell_type": "code",
      "execution_count": 52,
      "metadata": {
        "colab": {
          "base_uri": "https://localhost:8080/"
        },
        "id": "YYpV1068Ro-4",
        "outputId": "34353f08-e4dd-4efe-f694-61210702caa8"
      },
      "outputs": [
        {
          "output_type": "execute_result",
          "data": {
            "text/plain": [
              "8"
            ]
          },
          "metadata": {},
          "execution_count": 52
        }
      ],
      "source": [
        "np.random.randint(5, high=100)"
      ]
    },
    {
      "cell_type": "code",
      "execution_count": 53,
      "metadata": {
        "colab": {
          "base_uri": "https://localhost:8080/"
        },
        "id": "cnRrkcOsRo-5",
        "outputId": "782719b4-6d17-4d51-93ab-531eb0688757"
      },
      "outputs": [
        {
          "output_type": "execute_result",
          "data": {
            "text/plain": [
              "array([[45, 25, 91],\n",
              "       [79, 93,  8],\n",
              "       [76, 29, 59],\n",
              "       [44, 23, 43],\n",
              "       [45, 57, 24]])"
            ]
          },
          "metadata": {},
          "execution_count": 53
        }
      ],
      "source": [
        "np.random.randint(5, high=100, size=(5, 3))"
      ]
    },
    {
      "cell_type": "markdown",
      "metadata": {
        "id": "mMXMjFjmRo-5"
      },
      "source": [
        "## Input and Output\n",
        "\n",
        "https://docs.scipy.org/doc/numpy/reference/routines.io.html"
      ]
    },
    {
      "cell_type": "code",
      "execution_count": 54,
      "metadata": {
        "id": "F70AhF47Ro-6"
      },
      "outputs": [],
      "source": [
        "if not os.path.isdir('data'):\n",
        "    os.mkdir('data')\n",
        "txt = np.random.randn(3, 5)\n",
        "np.savetxt('data/test.txt', txt, delimiter=';')"
      ]
    },
    {
      "cell_type": "code",
      "execution_count": 55,
      "metadata": {
        "colab": {
          "base_uri": "https://localhost:8080/"
        },
        "id": "hNSEWrTdRo-6",
        "outputId": "909d6d36-addc-4e04-e7df-97d83bc7280f"
      },
      "outputs": [
        {
          "output_type": "execute_result",
          "data": {
            "text/plain": [
              "array([[ 0.08301921,  0.0205317 ,  1.02273517, -0.59433016, -1.59526997],\n",
              "       [ 1.22441688, -1.28071746,  0.35616227,  0.63468729,  0.9910755 ],\n",
              "       [ 2.56990467, -1.36852961,  1.6034857 ,  1.13143361, -0.0554889 ]])"
            ]
          },
          "metadata": {},
          "execution_count": 55
        }
      ],
      "source": [
        "# load data from a text file\n",
        "\n",
        "data = np.loadtxt('data/test.txt', delimiter=';')\n",
        "data"
      ]
    },
    {
      "cell_type": "code",
      "execution_count": 56,
      "metadata": {
        "colab": {
          "base_uri": "https://localhost:8080/"
        },
        "id": "tVZ70Du-Ro-6",
        "outputId": "aac665c4-d370-4e83-ba94-576003d251d9"
      },
      "outputs": [
        {
          "output_type": "execute_result",
          "data": {
            "text/plain": [
              "array([[0.35616227, 0.63468729],\n",
              "       [1.6034857 , 1.13143361]])"
            ]
          },
          "metadata": {},
          "execution_count": 56
        }
      ],
      "source": [
        "data = np.loadtxt('data/test.txt', delimiter=';', skiprows=1, usecols=(2, 3))\n",
        "data"
      ]
    }
  ],
  "metadata": {
    "kernelspec": {
      "display_name": "Python 3",
      "language": "python",
      "name": "python3"
    },
    "language_info": {
      "codemirror_mode": {
        "name": "ipython",
        "version": 3
      },
      "file_extension": ".py",
      "mimetype": "text/x-python",
      "name": "python",
      "nbconvert_exporter": "python",
      "pygments_lexer": "ipython3",
      "version": "3.6.10"
    },
    "colab": {
      "provenance": [],
      "collapsed_sections": [
        "ViMKDhBaRo-2",
        "mMXMjFjmRo-5"
      ]
    }
  },
  "nbformat": 4,
  "nbformat_minor": 0
}