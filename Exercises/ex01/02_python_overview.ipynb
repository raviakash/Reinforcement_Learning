{
  "cells": [
    {
      "cell_type": "markdown",
      "metadata": {
        "deletable": false,
        "editable": false,
        "nbgrader": {
          "cell_type": "markdown",
          "checksum": "e56215bcbbced704b936172ad4f1e411",
          "grade": false,
          "grade_id": "cell-daa0acf248678b25",
          "locked": true,
          "schema_version": 3,
          "solution": false,
          "task": false
        },
        "id": "8PdVU5Fh2B1w"
      },
      "source": [
        "# Shortcuts\n",
        "\n",
        "Shortcut | Command\n",
        "--- | ---\n",
        "Shift+Tab | Open Help\n",
        "Strg+Enter | Run cell\n",
        "Shift+Enter | Run cell and select next cell\n",
        "Alt+Enter | Run cell and insert cell below\n",
        "Strg+# | Convert marked lines into comments (German Keyboard)\n",
        "a | Insert cell above marked cell\n",
        "b | Insert cell below marked cell\n",
        "m | Convert cell to markdown type\n",
        "y | Convert cell to code type\n"
      ]
    },
    {
      "cell_type": "markdown",
      "metadata": {
        "deletable": false,
        "editable": false,
        "nbgrader": {
          "cell_type": "markdown",
          "checksum": "eb732b38099d87ab638cf8d4dc1c77b5",
          "grade": false,
          "grade_id": "cell-019787e0536d003e",
          "locked": true,
          "schema_version": 3,
          "solution": false,
          "task": false
        },
        "id": "AFZTsu052B12"
      },
      "source": [
        "# Datatypes"
      ]
    },
    {
      "cell_type": "code",
      "execution_count": 2,
      "metadata": {
        "deletable": false,
        "editable": false,
        "nbgrader": {
          "cell_type": "code",
          "checksum": "4490858a473e83d25fef300141217774",
          "grade": false,
          "grade_id": "cell-4dcd020cfa89b540",
          "locked": true,
          "schema_version": 3,
          "solution": false,
          "task": false
        },
        "id": "vLJd-3m-2B14"
      },
      "outputs": [],
      "source": [
        "integer_name = 1"
      ]
    },
    {
      "cell_type": "code",
      "execution_count": 3,
      "metadata": {
        "deletable": false,
        "editable": false,
        "nbgrader": {
          "cell_type": "code",
          "checksum": "7c6b277e20ea6a38c0e82bd07bb7f3ba",
          "grade": false,
          "grade_id": "cell-3df6aef2784fcde8",
          "locked": true,
          "schema_version": 3,
          "solution": false,
          "task": false
        },
        "colab": {
          "base_uri": "https://localhost:8080/"
        },
        "id": "Wm7uV-m02B2G",
        "outputId": "900c37f8-3fec-46ff-fd66-0b132869713c"
      },
      "outputs": [
        {
          "output_type": "stream",
          "name": "stdout",
          "text": [
            "1\n",
            "absj\n",
            "Integer value: 1\n"
          ]
        }
      ],
      "source": [
        "print(integer_name)\n",
        "floatingpoint = 1.5\n",
        "\n",
        "complexnumber = 1 + 1j\n",
        "\n",
        "string1 = 'absj'\n",
        "string2 = \"ab'sj\"\n",
        "string3 = '''absj'''\n",
        "string4 = \"\"\"absj\"\"\"\n",
        "print(string4)\n",
        "\n",
        "print(f'Integer value: {integer_name}')"
      ]
    },
    {
      "cell_type": "markdown",
      "metadata": {
        "deletable": false,
        "editable": false,
        "nbgrader": {
          "cell_type": "markdown",
          "checksum": "13f6fb3754c40f7399b189bf721cb69e",
          "grade": false,
          "grade_id": "cell-43c90d93065bfa05",
          "locked": true,
          "schema_version": 3,
          "solution": false,
          "task": false
        },
        "id": "8-aKZE_g2B2G"
      },
      "source": [
        "# Arithmetic operations"
      ]
    },
    {
      "cell_type": "code",
      "execution_count": 4,
      "metadata": {
        "deletable": false,
        "editable": false,
        "nbgrader": {
          "cell_type": "code",
          "checksum": "3abfd79db0d32a44619f16092e250230",
          "grade": false,
          "grade_id": "cell-8135f83b973b1567",
          "locked": true,
          "schema_version": 3,
          "solution": false,
          "task": false
        },
        "colab": {
          "base_uri": "https://localhost:8080/"
        },
        "id": "VPXdv71n2B2H",
        "outputId": "9acde4d0-b8f3-4f34-ba5b-266fb326c5c0"
      },
      "outputs": [
        {
          "output_type": "execute_result",
          "data": {
            "text/plain": [
              "1"
            ]
          },
          "metadata": {},
          "execution_count": 4
        }
      ],
      "source": [
        "1 + 1\n",
        "2 - 1\n",
        "#2 ** 2\n",
        "#10_000\n",
        "#2*10e4\n",
        "#1*10**4\n",
        "#41/2\n",
        "#40//2"
      ]
    },
    {
      "cell_type": "markdown",
      "metadata": {
        "deletable": false,
        "editable": false,
        "nbgrader": {
          "cell_type": "markdown",
          "checksum": "2d14ce5ef075e5411d65a13293c7ffa2",
          "grade": false,
          "grade_id": "cell-eebdde86f62071e8",
          "locked": true,
          "schema_version": 3,
          "solution": false,
          "task": false
        },
        "id": "nP3jkMCm2B2I"
      },
      "source": [
        "# Collections"
      ]
    },
    {
      "cell_type": "code",
      "source": [
        "#list\n",
        "\n",
        "l= [integer_name, '123', [1,2,3,4], 1+1]\n",
        "print(l)"
      ],
      "metadata": {
        "colab": {
          "base_uri": "https://localhost:8080/"
        },
        "id": "N-fJ1rc73ioh",
        "outputId": "0450cdc2-5e97-4634-c2dd-90d81d7fdb16"
      },
      "execution_count": 6,
      "outputs": [
        {
          "output_type": "stream",
          "name": "stdout",
          "text": [
            "[1, '123', [1, 2, 3, 4], 2]\n"
          ]
        }
      ]
    },
    {
      "cell_type": "code",
      "source": [
        "l.append(5)\n",
        "l"
      ],
      "metadata": {
        "colab": {
          "base_uri": "https://localhost:8080/"
        },
        "id": "UDVf7nJg6m8q",
        "outputId": "bfe2dc52-f999-4092-cb9b-b9eddd2088ff"
      },
      "execution_count": 7,
      "outputs": [
        {
          "output_type": "execute_result",
          "data": {
            "text/plain": [
              "[1, '123', [1, 2, 3, 4], 2, 5]"
            ]
          },
          "metadata": {},
          "execution_count": 7
        }
      ]
    },
    {
      "cell_type": "code",
      "source": [
        "m = [30,40]\n",
        "l.extend(m)\n",
        "l"
      ],
      "metadata": {
        "colab": {
          "base_uri": "https://localhost:8080/"
        },
        "id": "-YReZBcj6rxJ",
        "outputId": "a263be09-e703-4697-d6aa-5ecedaf424ae"
      },
      "execution_count": 8,
      "outputs": [
        {
          "output_type": "execute_result",
          "data": {
            "text/plain": [
              "[1, '123', [1, 2, 3, 4], 2, 5, 30, 40]"
            ]
          },
          "metadata": {},
          "execution_count": 8
        }
      ]
    },
    {
      "cell_type": "code",
      "source": [
        "print(l[0])\n",
        "print(l[-1])\n",
        "print(l[0:-1])\n",
        "print(l[0:-1:2])\n",
        "print(l[::2])"
      ],
      "metadata": {
        "colab": {
          "base_uri": "https://localhost:8080/"
        },
        "id": "mHaZijJA6yLX",
        "outputId": "37a71a06-5138-4b1b-dab5-888be1a855f1"
      },
      "execution_count": 11,
      "outputs": [
        {
          "output_type": "stream",
          "name": "stdout",
          "text": [
            "1\n",
            "40\n",
            "[1, '123', [1, 2, 3, 4], 2, 5, 30]\n",
            "[1, [1, 2, 3, 4], 5]\n",
            "[1, [1, 2, 3, 4], 5, 40]\n"
          ]
        }
      ]
    },
    {
      "cell_type": "code",
      "source": [
        "#Tuple\n",
        "t = (1,2,3)\n",
        "print(t)"
      ],
      "metadata": {
        "colab": {
          "base_uri": "https://localhost:8080/"
        },
        "id": "ap9A6Pf_9FNL",
        "outputId": "3a486078-cfd2-4518-8953-2d991adb83a3"
      },
      "execution_count": 12,
      "outputs": [
        {
          "output_type": "stream",
          "name": "stdout",
          "text": [
            "(1, 2, 3)\n"
          ]
        }
      ]
    },
    {
      "cell_type": "code",
      "source": [
        "#Dictionary\n",
        "dictionary = {\n",
        "    'a':1,\n",
        "    2:'b',\n",
        "    'c':3,\n",
        "}"
      ],
      "metadata": {
        "id": "kmZAHh9A9cM4"
      },
      "execution_count": 13,
      "outputs": []
    },
    {
      "cell_type": "code",
      "source": [
        "dictionary[2]"
      ],
      "metadata": {
        "colab": {
          "base_uri": "https://localhost:8080/",
          "height": 35
        },
        "id": "9P0RK9HI9qfC",
        "outputId": "b1f9dde6-78f8-41bf-87a2-3f24ebd61d02"
      },
      "execution_count": 14,
      "outputs": [
        {
          "output_type": "execute_result",
          "data": {
            "text/plain": [
              "'b'"
            ],
            "application/vnd.google.colaboratory.intrinsic+json": {
              "type": "string"
            }
          },
          "metadata": {},
          "execution_count": 14
        }
      ]
    },
    {
      "cell_type": "code",
      "source": [
        "dictionary.keys()"
      ],
      "metadata": {
        "colab": {
          "base_uri": "https://localhost:8080/"
        },
        "id": "xqgzhx419wZD",
        "outputId": "6c156365-b83c-4296-8e8d-a36894c70b5a"
      },
      "execution_count": 15,
      "outputs": [
        {
          "output_type": "execute_result",
          "data": {
            "text/plain": [
              "dict_keys(['a', 2, 'c'])"
            ]
          },
          "metadata": {},
          "execution_count": 15
        }
      ]
    },
    {
      "cell_type": "code",
      "source": [
        "dictionary.values()"
      ],
      "metadata": {
        "colab": {
          "base_uri": "https://localhost:8080/"
        },
        "id": "k5hboTa594E7",
        "outputId": "fd17bebd-a9f9-47d4-c938-a0df284b6814"
      },
      "execution_count": 16,
      "outputs": [
        {
          "output_type": "execute_result",
          "data": {
            "text/plain": [
              "dict_values([1, 'b', 3])"
            ]
          },
          "metadata": {},
          "execution_count": 16
        }
      ]
    },
    {
      "cell_type": "code",
      "source": [
        "dictionary.items()"
      ],
      "metadata": {
        "colab": {
          "base_uri": "https://localhost:8080/"
        },
        "id": "i7zVuz8p9-R7",
        "outputId": "0af46e88-505b-458a-b962-95762fe66a10"
      },
      "execution_count": 17,
      "outputs": [
        {
          "output_type": "execute_result",
          "data": {
            "text/plain": [
              "dict_items([('a', 1), (2, 'b'), ('c', 3)])"
            ]
          },
          "metadata": {},
          "execution_count": 17
        }
      ]
    },
    {
      "cell_type": "code",
      "source": [
        "l = list(range(5))\n",
        "l2 = []\n",
        "for entry in l:\n",
        "  print(entry**2)\n",
        "  l2.append(entry**2)\n",
        "\n",
        "for i in range(len(l)):\n",
        "  print(l[i] ** 2)\n",
        "  l2.append(l[i] ** 2)\n",
        "\n",
        "for i, entry in enumerate(l):\n",
        "  print(entry**2)\n",
        "  l2.append(entry**2)"
      ],
      "metadata": {
        "colab": {
          "base_uri": "https://localhost:8080/"
        },
        "id": "43EVoL87BefD",
        "outputId": "8661960c-ca93-451d-e09c-7fab82919aff"
      },
      "execution_count": 18,
      "outputs": [
        {
          "output_type": "stream",
          "name": "stdout",
          "text": [
            "0\n",
            "1\n",
            "4\n",
            "9\n",
            "16\n",
            "0\n",
            "1\n",
            "4\n",
            "9\n",
            "16\n",
            "0\n",
            "1\n",
            "4\n",
            "9\n",
            "16\n"
          ]
        }
      ]
    },
    {
      "cell_type": "markdown",
      "metadata": {
        "deletable": false,
        "editable": false,
        "nbgrader": {
          "cell_type": "markdown",
          "checksum": "5c51332eb5a6ea8c570035294cc6ad01",
          "grade": false,
          "grade_id": "cell-346eeb773872f4ef",
          "locked": true,
          "schema_version": 3,
          "solution": false,
          "task": false
        },
        "id": "VylC0gJM2B2Z"
      },
      "source": [
        "# Functions"
      ]
    },
    {
      "cell_type": "code",
      "source": [
        "def sub(a_val, b_val):\n",
        "  return a_val-b_val\n",
        "\n",
        "a=2\n",
        "b=1\n",
        "\n",
        "print(sub(a,b))\n",
        "print(sub(b,a))\n",
        "print(sub(b_val=b, a_val=a))\n",
        "print(sub(a_val=a, b_val=b))"
      ],
      "metadata": {
        "colab": {
          "base_uri": "https://localhost:8080/"
        },
        "id": "0I8Jr2u--NuN",
        "outputId": "30630e0f-b1e8-41af-d239-831ae4dbc6fb"
      },
      "execution_count": 19,
      "outputs": [
        {
          "output_type": "stream",
          "name": "stdout",
          "text": [
            "1\n",
            "-1\n",
            "1\n",
            "1\n"
          ]
        }
      ]
    },
    {
      "cell_type": "code",
      "source": [
        "class Cat:\n",
        "\n",
        "  def __init__(self, breed):\n",
        "    assert breed  in ['Balinese', 'Bengal'], 'breed not understood'\n",
        "    self.breed = breed\n",
        "\n",
        "  def pet(self):\n",
        "    if self.breed == 'balinese':\n",
        "      print('meow')\n",
        "    elif self.breed == 'Bengal':\n",
        "        print('purr')\n",
        "    else:\n",
        "      print('??')"
      ],
      "metadata": {
        "id": "FvMJj1JZD5ZN"
      },
      "execution_count": 25,
      "outputs": []
    },
    {
      "cell_type": "code",
      "source": [
        "import random\n",
        "### BEGIN SOLUTION\n",
        "class CrazyCatLady:\n",
        "    \n",
        "    cat_names = ['Oscar', 'Max', 'Tiger', 'Sam', 'Misty', 'Simba', \n",
        "                 'Coco'\t, 'Chloe', 'Lucy' ,  'Missy', 'Molly', 'Tigger', \n",
        "                 'Smokey', 'Milo', 'Cleo']\n",
        "    \n",
        "    def __init__(self):\n",
        "        self.cats = 10*[Cat('Balinese')] + 5*[Cat('Bengal')]\n",
        "    \n",
        "    def throw(self):\n",
        "        self.cats.pop()\n",
        "    \n",
        "    def talk_to_cats(self):\n",
        "       return {n: cat for n, cat in zip(random.choices(self.cat_names, k=len(self.cats)), self.cats)}"
      ],
      "metadata": {
        "id": "ZcTTsvNvEqvG"
      },
      "execution_count": 23,
      "outputs": []
    },
    {
      "cell_type": "code",
      "source": [
        "ccl = CrazyCatLady()\n",
        "ccl.throw()\n",
        "ccl.throw()\n",
        "ccl.throw()\n",
        "ccl.throw()\n",
        "print(ccl.talk_to_cats())\n",
        "ccl.throw()\n",
        "ccl.throw()\n",
        "ccl.throw()\n",
        "ccl.talk_to_cats()"
      ],
      "metadata": {
        "colab": {
          "base_uri": "https://localhost:8080/"
        },
        "id": "J2iFqLtiEx1x",
        "outputId": "8f928b61-0461-4ba3-948e-c34c67a3186b"
      },
      "execution_count": 26,
      "outputs": [
        {
          "output_type": "stream",
          "name": "stdout",
          "text": [
            "{'Chloe': <__main__.Cat object at 0x7fcef4c46710>, 'Tiger': <__main__.Cat object at 0x7fcef4c46710>, 'Milo': <__main__.Cat object at 0x7fcef4c46710>, 'Molly': <__main__.Cat object at 0x7fcef4c46710>, 'Max': <__main__.Cat object at 0x7fcef4c46710>, 'Smokey': <__main__.Cat object at 0x7fcef4c46250>, 'Cleo': <__main__.Cat object at 0x7fcef4c46710>}\n"
          ]
        },
        {
          "output_type": "execute_result",
          "data": {
            "text/plain": [
              "{'Coco': <__main__.Cat at 0x7fcef4c46710>,\n",
              " 'Sam': <__main__.Cat at 0x7fcef4c46710>,\n",
              " 'Simba': <__main__.Cat at 0x7fcef4c46710>,\n",
              " 'Molly': <__main__.Cat at 0x7fcef4c46710>,\n",
              " 'Misty': <__main__.Cat at 0x7fcef4c46710>,\n",
              " 'Lucy': <__main__.Cat at 0x7fcef4c46710>}"
            ]
          },
          "metadata": {},
          "execution_count": 26
        }
      ]
    },
    {
      "cell_type": "code",
      "source": [
        "A = [\n",
        "    [1, 2, 3],\n",
        "    [4, 5, 6],\n",
        "]\n",
        "B = [\n",
        "    [7, 8],\n",
        "    [9, 10],\n",
        "    [11, 12],\n",
        "]\n",
        "C = [\n",
        "    [0, 0],\n",
        "    [0, 0],\n",
        "]\n",
        "\n",
        "for i, a_ in enumerate(A):\n",
        "  for a, b_ in zip(a_,B):\n",
        "    for j, b in enumerate(b_):\n",
        "      C[i][j] += a*b\n",
        "\n",
        "C"
      ],
      "metadata": {
        "colab": {
          "base_uri": "https://localhost:8080/"
        },
        "id": "KaA2hcgUFFL_",
        "outputId": "09c18bd2-6a15-4546-af5e-cf7ea904ab38"
      },
      "execution_count": 29,
      "outputs": [
        {
          "output_type": "execute_result",
          "data": {
            "text/plain": [
              "[[58, 64], [139, 154]]"
            ]
          },
          "metadata": {},
          "execution_count": 29
        }
      ]
    },
    {
      "cell_type": "code",
      "source": [
        "import numpy as np\n",
        "np.matmul(A,B)"
      ],
      "metadata": {
        "colab": {
          "base_uri": "https://localhost:8080/"
        },
        "id": "hKQJqJFUIPwi",
        "outputId": "ac360c8a-0f7b-4a18-82f4-f0f8c81ecb86"
      },
      "execution_count": 30,
      "outputs": [
        {
          "output_type": "execute_result",
          "data": {
            "text/plain": [
              "array([[ 58,  64],\n",
              "       [139, 154]])"
            ]
          },
          "metadata": {},
          "execution_count": 30
        }
      ]
    }
  ],
  "metadata": {
    "kernelspec": {
      "display_name": "Python 3",
      "language": "python",
      "name": "python3"
    },
    "language_info": {
      "codemirror_mode": {
        "name": "ipython",
        "version": 3
      },
      "file_extension": ".py",
      "mimetype": "text/x-python",
      "name": "python",
      "nbconvert_exporter": "python",
      "pygments_lexer": "ipython3",
      "version": "3.6.10"
    },
    "colab": {
      "name": "03_python_overview.ipynb",
      "provenance": []
    }
  },
  "nbformat": 4,
  "nbformat_minor": 0
}