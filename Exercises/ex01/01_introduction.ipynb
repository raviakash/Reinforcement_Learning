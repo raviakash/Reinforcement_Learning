{
  "cells": [
    {
      "cell_type": "markdown",
      "metadata": {
        "deletable": false,
        "editable": false,
        "nbgrader": {
          "cell_type": "markdown",
          "checksum": "097296f545d3ec43da31eeb5627910ac",
          "grade": false,
          "grade_id": "cell-987c7a2f76744f44",
          "locked": true,
          "schema_version": 3,
          "solution": false,
          "task": false
        },
        "id": "6bhiSflvlXK8"
      },
      "source": [
        "# Introduction\n",
        "\n",
        "This first exercise is based on the python crashcourse offered by the department \"Nachrichtentechnik\" and \"Elektrische Messtechnik\".\n",
        "\n",
        "[Python Crash-Course](https://fgnt.github.io/python_crashkurs/#/)\n"
      ]
    },
    {
      "cell_type": "markdown",
      "metadata": {
        "deletable": false,
        "editable": false,
        "nbgrader": {
          "cell_type": "markdown",
          "checksum": "5d4113d70f9199211612a889e3d7600f",
          "grade": false,
          "grade_id": "cell-1fecd7143400f744",
          "locked": true,
          "schema_version": 3,
          "solution": false,
          "task": false
        },
        "id": "qEgShwq1lXLG"
      },
      "source": [
        "## MATLAB vs. Python\n",
        "\n",
        "|                             MATLAB                             |                                       Python                                       |\n",
        "|:--------------------------------------------------------------:|:----------------------------------------------------------------------------------:|\n",
        "|                           Commercial                           |                                    Open Source                                     |\n",
        "|     New functions via MATLAB Toolkits<br>(no package manager)     |        Installation of new modules with<br>package manager (conda or pip)         |\n",
        "| Mainly procedual programming<br>(Objects exists but are a hassle) |                                  Object oriented                                   |\n",
        "|               Mathematical Programming Language                |             General Purpose Language with<br>many mathematical modules              |\n",
        "|                No Namespaces for Core-Functions                |               Proper Namespaces (e.g. `plt.plot` instead of `plot`)                |\n",
        "|                          GUI included                          | Various GUIs available.<br>We recommend [Pycharm](https://www.jetbrains.com/pycharm/) |\n",
        "|   Download: [Mathworks](https://de.mathworks.com/downloads/)   |              Download: [Anaconda](https://www.anaconda.com/download/)              |\n",
        "\n",
        "\n",
        "### Numpy for MATLAB users\n",
        "[https://docs.scipy.org/doc/numpy-1.15.0/user/numpy-for-matlab-users.html](https://docs.scipy.org/doc/numpy-1.15.0/user/numpy-for-matlab-users.html)\n",
        "\n",
        "## Common Libraries\n",
        "* Numpy (Vector and Matrix operations, Numeric computing)\n",
        "* Matplotlib (Plotting)\n",
        "* Pandas (Table operations)\n",
        "* Scikit-Learn (Machine Learning)\n",
        "* Tensorflow / PyTorch (Neural Networks)\n",
        "* SymPy (Symbolic computations)\n",
        "* Seaborn (Advanced Plotting)\n",
        "* ...\n",
        "\n",
        "## Quickstart\n"
      ]
    },
    {
      "cell_type": "code",
      "execution_count": 3,
      "metadata": {
        "deletable": false,
        "editable": false,
        "nbgrader": {
          "cell_type": "code",
          "checksum": "4bf686f8507e7defe725a3e4ffa4f342",
          "grade": false,
          "grade_id": "cell-bb8aab80ca0139e1",
          "locked": true,
          "schema_version": 3,
          "solution": false,
          "task": false
        },
        "id": "tfn3S6X6lXLI",
        "colab": {
          "base_uri": "https://localhost:8080/",
          "height": 282
        },
        "outputId": "3549e20f-03a9-45b1-a15d-9b22a8e3b1cd"
      },
      "outputs": [
        {
          "output_type": "display_data",
          "data": {
            "text/plain": [
              "<Figure size 432x288 with 1 Axes>"
            ],
            "image/png": "[encoded data removed]"
          },
          "metadata": {
            "needs_background": "light"
          }
        }
      ],
      "source": [
        "import numpy as np\n",
        "import matplotlib.pyplot as plt\n",
        "u_0 = 3\n",
        "u_peak = 2\n",
        "f_0 = 50\n",
        "\n",
        "#Time vector in  s (sequence of numbers)\n",
        "t = np.arange(start=0, stop=0.04, step=0.001)\n",
        "u = u_0 + u_peak * np.sin(2 * np.pi * f_0 * t)\n",
        "plt.plot(t,u, 'o--')\n",
        "plt.xlabel('Time $t$ / s')\n",
        "plt.ylabel('Voltage $u(t)$ / V')\n",
        "plt.grid(True)"
      ]
    },
    {
      "cell_type": "markdown",
      "source": [
        "# **Datatypes**"
      ],
      "metadata": {
        "id": "jqVdTqfGDu3N"
      }
    },
    {
      "cell_type": "code",
      "source": [
        "integer_name = 1\n",
        "print(integer_name)\n",
        "floatingpoint = 1.5\n",
        "complexnumber = 1+1j\n",
        "\n",
        "string1 ='absj'\n",
        "string2 = \"ab'sj\"\n",
        "string3 = '''absj'''\n",
        "string4 = \"\"\"absj\"\"\"\n",
        "print(string4)\n",
        "\n",
        "print(f'Integer value: {integer_name}')"
      ],
      "metadata": {
        "colab": {
          "base_uri": "https://localhost:8080/"
        },
        "id": "TYEof0VFDyBU",
        "outputId": "aaf667bc-7187-4987-dae8-8791d932fde7"
      },
      "execution_count": 4,
      "outputs": [
        {
          "output_type": "stream",
          "name": "stdout",
          "text": [
            "1\n",
            "absj\n",
            "Integer value: 1\n"
          ]
        }
      ]
    },
    {
      "cell_type": "code",
      "source": [
        "##Collections\n",
        "\n",
        "#List\n",
        "l = [integer_name, '123', [1,2,3,4], 1+1j]\n",
        "print(l)"
      ],
      "metadata": {
        "colab": {
          "base_uri": "https://localhost:8080/"
        },
        "id": "y1n7_ebAFIC2",
        "outputId": "adca24a7-e34d-46f4-b0ad-37e655d543fb"
      },
      "execution_count": 5,
      "outputs": [
        {
          "output_type": "stream",
          "name": "stdout",
          "text": [
            "[1, '123', [1, 2, 3, 4], (1+1j)]\n"
          ]
        }
      ]
    },
    {
      "cell_type": "code",
      "source": [
        "l.append(5)\n",
        "l"
      ],
      "metadata": {
        "colab": {
          "base_uri": "https://localhost:8080/"
        },
        "id": "Zzuyg9-lFeSM",
        "outputId": "2c6f8f4a-0742-447b-e232-d8945dc0c677"
      },
      "execution_count": 6,
      "outputs": [
        {
          "output_type": "execute_result",
          "data": {
            "text/plain": [
              "[1, '123', [1, 2, 3, 4], (1+1j), 5]"
            ]
          },
          "metadata": {},
          "execution_count": 6
        }
      ]
    },
    {
      "cell_type": "code",
      "source": [
        "m = [30,40]\n",
        "l.append(m)\n",
        "l"
      ],
      "metadata": {
        "colab": {
          "base_uri": "https://localhost:8080/"
        },
        "id": "SQVnUsH5Fi42",
        "outputId": "56cc2f50-b10d-479b-ccea-d3acef1a109d"
      },
      "execution_count": 8,
      "outputs": [
        {
          "output_type": "execute_result",
          "data": {
            "text/plain": [
              "[1, '123', [1, 2, 3, 4], (1+1j), 5, 30, 40, [30, 40]]"
            ]
          },
          "metadata": {},
          "execution_count": 8
        }
      ]
    },
    {
      "cell_type": "code",
      "source": [
        "#indexing and slicing\n",
        "print(l[0])\n",
        "print(l[-1])\n",
        "print(l[0:1])\n",
        "print(l[0:-1:2])\n",
        "print(l[::2])"
      ],
      "metadata": {
        "colab": {
          "base_uri": "https://localhost:8080/"
        },
        "id": "1BGkY4DSFyLc",
        "outputId": "d0f3b2ad-1cfd-4fc1-8851-2b188a6d9057"
      },
      "execution_count": 9,
      "outputs": [
        {
          "output_type": "stream",
          "name": "stdout",
          "text": [
            "1\n",
            "[30, 40]\n",
            "[1]\n",
            "[1, [1, 2, 3, 4], 5, 40]\n",
            "[1, [1, 2, 3, 4], 5, 40]\n"
          ]
        }
      ]
    },
    {
      "cell_type": "code",
      "source": [
        "#Tuple\n",
        "t=(1,2,3)\n",
        "t"
      ],
      "metadata": {
        "colab": {
          "base_uri": "https://localhost:8080/"
        },
        "id": "usE_C--HGwvf",
        "outputId": "f3f274f1-e8a0-4833-a88a-2ca8c696812e"
      },
      "execution_count": 10,
      "outputs": [
        {
          "output_type": "execute_result",
          "data": {
            "text/plain": [
              "(1, 2, 3)"
            ]
          },
          "metadata": {},
          "execution_count": 10
        }
      ]
    },
    {
      "cell_type": "code",
      "source": [
        "#collection operations\n",
        "t2=(9,8,7)\n",
        "print(t+t2)\n",
        "print(t*3)"
      ],
      "metadata": {
        "colab": {
          "base_uri": "https://localhost:8080/"
        },
        "id": "LdaMT9OfG2cT",
        "outputId": "9728ab60-ec0f-48cb-c428-a140df2d6055"
      },
      "execution_count": 12,
      "outputs": [
        {
          "output_type": "stream",
          "name": "stdout",
          "text": [
            "(1, 2, 3, 9, 8, 7)\n",
            "(1, 2, 3, 1, 2, 3, 1, 2, 3)\n"
          ]
        }
      ]
    },
    {
      "cell_type": "code",
      "source": [
        "#Dictionary\n",
        "\n",
        "dictionary = {\n",
        "    'a':1,\n",
        "    2:'b',\n",
        "    'c':3,\n",
        "}\n",
        "dictionary"
      ],
      "metadata": {
        "colab": {
          "base_uri": "https://localhost:8080/"
        },
        "id": "8BWpU65wHM58",
        "outputId": "5310999b-f8ec-4012-f509-c17ad19f396e"
      },
      "execution_count": 13,
      "outputs": [
        {
          "output_type": "execute_result",
          "data": {
            "text/plain": [
              "{2: 'b', 'a': 1, 'c': 3}"
            ]
          },
          "metadata": {},
          "execution_count": 13
        }
      ]
    },
    {
      "cell_type": "code",
      "source": [
        "dictionary[2]"
      ],
      "metadata": {
        "colab": {
          "base_uri": "https://localhost:8080/",
          "height": 35
        },
        "id": "rU9iSaAyHlE0",
        "outputId": "679bbca7-c36d-4fc0-f1da-114953b5f8ec"
      },
      "execution_count": 20,
      "outputs": [
        {
          "output_type": "execute_result",
          "data": {
            "text/plain": [
              "'b'"
            ],
            "application/vnd.google.colaboratory.intrinsic+json": {
              "type": "string"
            }
          },
          "metadata": {},
          "execution_count": 20
        }
      ]
    },
    {
      "cell_type": "code",
      "source": [
        "dictionary.keys()"
      ],
      "metadata": {
        "colab": {
          "base_uri": "https://localhost:8080/"
        },
        "id": "28Ot38kOHu17",
        "outputId": "aa28b344-aa79-4104-9fbc-ef327e3881df"
      },
      "execution_count": 18,
      "outputs": [
        {
          "output_type": "execute_result",
          "data": {
            "text/plain": [
              "dict_keys(['a', 2, 'c'])"
            ]
          },
          "metadata": {},
          "execution_count": 18
        }
      ]
    },
    {
      "cell_type": "code",
      "source": [
        "dictionary.values()"
      ],
      "metadata": {
        "colab": {
          "base_uri": "https://localhost:8080/"
        },
        "id": "6-O4DU5KH1b7",
        "outputId": "fd9eb82c-b57d-4031-dba4-8ecb27875d7d"
      },
      "execution_count": 21,
      "outputs": [
        {
          "output_type": "execute_result",
          "data": {
            "text/plain": [
              "dict_values([1, 'b', 3])"
            ]
          },
          "metadata": {},
          "execution_count": 21
        }
      ]
    },
    {
      "cell_type": "code",
      "source": [
        "dictionary.items()"
      ],
      "metadata": {
        "colab": {
          "base_uri": "https://localhost:8080/"
        },
        "id": "YAmJ9NiWH_-7",
        "outputId": "b7f9396a-cbd9-4ec8-a1af-ab15401c3059"
      },
      "execution_count": 22,
      "outputs": [
        {
          "output_type": "execute_result",
          "data": {
            "text/plain": [
              "dict_items([('a', 1), (2, 'b'), ('c', 3)])"
            ]
          },
          "metadata": {},
          "execution_count": 22
        }
      ]
    },
    {
      "cell_type": "code",
      "source": [
        "dictionary={}"
      ],
      "metadata": {
        "id": "DwCcj9ygIGdb"
      },
      "execution_count": 24,
      "outputs": []
    },
    {
      "cell_type": "code",
      "source": [
        "#Conditions\n",
        "a = 6\n",
        "if a<=2:\n",
        "  b=2\n",
        "elif a<10:\n",
        "  b=3\n",
        "else:\n",
        "  b=4\n",
        "b "
      ],
      "metadata": {
        "colab": {
          "base_uri": "https://localhost:8080/"
        },
        "id": "WpuCL2uuIPIz",
        "outputId": "f3d85f9f-6c05-485b-b75a-10bfe67e3a8e"
      },
      "execution_count": 27,
      "outputs": [
        {
          "output_type": "execute_result",
          "data": {
            "text/plain": [
              "3"
            ]
          },
          "metadata": {},
          "execution_count": 27
        }
      ]
    },
    {
      "cell_type": "code",
      "source": [
        "if (a==2) and (b==3):\n",
        "  c=3"
      ],
      "metadata": {
        "id": "xmQX6P3yIpKL"
      },
      "execution_count": 28,
      "outputs": []
    },
    {
      "cell_type": "code",
      "source": [
        "d = None\n",
        "if a==2 or d is None:\n",
        "  if d is not None:\n",
        "    c = None"
      ],
      "metadata": {
        "id": "oB19Y_k0IvjV"
      },
      "execution_count": 29,
      "outputs": []
    },
    {
      "cell_type": "code",
      "source": [
        "#Loops\n",
        "l = list(range(5))\n",
        "l2 = []\n",
        "for entry in l:\n",
        "  print(entry ** 2)\n",
        "  l2.append(entry ** 2)\n",
        "\n",
        "for index in range(len(l)):\n",
        "  print(l[index] ** 2)\n",
        "  l2.append(l[index] ** 2)\n",
        "\n",
        "for index, entry in enumerate(l):\n",
        "  print(entry ** 2)\n",
        "  l2.append(entry ** 2)\n",
        "\n",
        "print(l2)\n",
        "\n",
        "l"
      ],
      "metadata": {
        "colab": {
          "base_uri": "https://localhost:8080/"
        },
        "id": "JfRO5EDBJXHa",
        "outputId": "a7ee593f-b550-49e0-9e9b-87965140d229"
      },
      "execution_count": 30,
      "outputs": [
        {
          "output_type": "stream",
          "name": "stdout",
          "text": [
            "0\n",
            "1\n",
            "4\n",
            "9\n",
            "16\n",
            "0\n",
            "1\n",
            "4\n",
            "9\n",
            "16\n",
            "0\n",
            "1\n",
            "4\n",
            "9\n",
            "16\n",
            "[0, 1, 4, 9, 16, 0, 1, 4, 9, 16, 0, 1, 4, 9, 16]\n"
          ]
        },
        {
          "output_type": "execute_result",
          "data": {
            "text/plain": [
              "[0, 1, 2, 3, 4]"
            ]
          },
          "metadata": {},
          "execution_count": 30
        }
      ]
    },
    {
      "cell_type": "code",
      "source": [
        "#List comprehensions\n",
        "l = list(range(50))\n",
        "\n",
        "l2 = [entry ** 2 for entry in l]\n",
        "#print(l2)\n",
        "\n",
        "l2 = [\n",
        "    entry ** 2\n",
        "    for entry in l\n",
        "    if entry ** 2 >= 100\n",
        "]\n",
        "print (l2)"
      ],
      "metadata": {
        "colab": {
          "base_uri": "https://localhost:8080/"
        },
        "id": "TAitRMSJKdqz",
        "outputId": "aaf20f18-2fea-4a8f-d977-cc98bfeba410"
      },
      "execution_count": 31,
      "outputs": [
        {
          "output_type": "stream",
          "name": "stdout",
          "text": [
            "[100, 121, 144, 169, 196, 225, 256, 289, 324, 361, 400, 441, 484, 529, 576, 625, 676, 729, 784, 841, 900, 961, 1024, 1089, 1156, 1225, 1296, 1369, 1444, 1521, 1600, 1681, 1764, 1849, 1936, 2025, 2116, 2209, 2304, 2401]\n"
          ]
        }
      ]
    },
    {
      "cell_type": "code",
      "source": [
        "#dictionary comprehensions\n",
        "d2 = {\n",
        "    entry : entry **2\n",
        "    for entry in l\n",
        "    if entry ** 2 >=100\n",
        "}\n",
        "d2"
      ],
      "metadata": {
        "colab": {
          "base_uri": "https://localhost:8080/"
        },
        "id": "kthRU3lDLedP",
        "outputId": "be38071e-8aea-468e-bfe2-0ec8a0f53557"
      },
      "execution_count": 32,
      "outputs": [
        {
          "output_type": "execute_result",
          "data": {
            "text/plain": [
              "{10: 100,\n",
              " 11: 121,\n",
              " 12: 144,\n",
              " 13: 169,\n",
              " 14: 196,\n",
              " 15: 225,\n",
              " 16: 256,\n",
              " 17: 289,\n",
              " 18: 324,\n",
              " 19: 361,\n",
              " 20: 400,\n",
              " 21: 441,\n",
              " 22: 484,\n",
              " 23: 529,\n",
              " 24: 576,\n",
              " 25: 625,\n",
              " 26: 676,\n",
              " 27: 729,\n",
              " 28: 784,\n",
              " 29: 841,\n",
              " 30: 900,\n",
              " 31: 961,\n",
              " 32: 1024,\n",
              " 33: 1089,\n",
              " 34: 1156,\n",
              " 35: 1225,\n",
              " 36: 1296,\n",
              " 37: 1369,\n",
              " 38: 1444,\n",
              " 39: 1521,\n",
              " 40: 1600,\n",
              " 41: 1681,\n",
              " 42: 1764,\n",
              " 43: 1849,\n",
              " 44: 1936,\n",
              " 45: 2025,\n",
              " 46: 2116,\n",
              " 47: 2209,\n",
              " 48: 2304,\n",
              " 49: 2401}"
            ]
          },
          "metadata": {},
          "execution_count": 32
        }
      ]
    },
    {
      "cell_type": "code",
      "source": [
        "# Create a list of 10 elements consisting of the first 10 alphabet letters\n",
        "l = [l for l in 'abcdefghij']\n",
        "l"
      ],
      "metadata": {
        "colab": {
          "base_uri": "https://localhost:8080/"
        },
        "id": "OU1BUC5dMDVq",
        "outputId": "60c0a0b9-cd07-45c3-84ef-0655f65d398c"
      },
      "execution_count": 33,
      "outputs": [
        {
          "output_type": "execute_result",
          "data": {
            "text/plain": [
              "['a', 'b', 'c', 'd', 'e', 'f', 'g', 'h', 'i', 'j']"
            ]
          },
          "metadata": {},
          "execution_count": 33
        }
      ]
    },
    {
      "cell_type": "code",
      "source": [
        "#Create another list that contains the 10 elements from above in reversed order\n",
        "\n",
        "l_rev = list(reversed(l))\n",
        "l_rev"
      ],
      "metadata": {
        "colab": {
          "base_uri": "https://localhost:8080/"
        },
        "id": "WliVgINVMVuy",
        "outputId": "952465f0-27fd-4d1f-b185-3b6a1b727339"
      },
      "execution_count": 34,
      "outputs": [
        {
          "output_type": "execute_result",
          "data": {
            "text/plain": [
              "['j', 'i', 'h', 'g', 'f', 'e', 'd', 'c', 'b', 'a']"
            ]
          },
          "metadata": {},
          "execution_count": 34
        }
      ]
    },
    {
      "cell_type": "code",
      "source": [
        "#Create a dictionary with two key-value pairs.\n",
        "#First key 'A' contains the first list with 10 alphabet letters in correct order, and second key 'B' contains the second list with the reversed order letters.\n",
        "alph_d = {'A': l, 'B': l_rev}\n",
        "alph_d"
      ],
      "metadata": {
        "colab": {
          "base_uri": "https://localhost:8080/"
        },
        "id": "7qp1GMuqMmjR",
        "outputId": "b5d16e8f-7cd0-48b5-ff92-f08d07ef3223"
      },
      "execution_count": 35,
      "outputs": [
        {
          "output_type": "execute_result",
          "data": {
            "text/plain": [
              "{'A': ['a', 'b', 'c', 'd', 'e', 'f', 'g', 'h', 'i', 'j'],\n",
              " 'B': ['j', 'i', 'h', 'g', 'f', 'e', 'd', 'c', 'b', 'a']}"
            ]
          },
          "metadata": {},
          "execution_count": 35
        }
      ]
    },
    {
      "cell_type": "code",
      "source": [
        "#Create three tuples of size 1 and add them to a list. Each tuple shall contain a dictionary with 5 keys that are enumerated integers and the corresponding values are these integers times ten.\n",
        "#Each tuple's dictionary is continuing the enumeration of the previous dictionary. Print each key and value pair by iterating through the list.\n",
        "\n",
        "res = []\n",
        "for i in range (1,4):\n",
        "  start, end = (i-1)*5, i*5\n",
        "  d = {idx: 10*idx for idx in range(start, end)}\n",
        "  res.append((d,))\n",
        "for r in res:\n",
        "  for k, v in r[0].items():\n",
        "    print(f'key {k}: value {v}')\n",
        "    "
      ],
      "metadata": {
        "colab": {
          "base_uri": "https://localhost:8080/"
        },
        "id": "zlVjZNrSNIBa",
        "outputId": "24bdff52-cbd7-4e6a-cb03-26afa990b149"
      },
      "execution_count": 36,
      "outputs": [
        {
          "output_type": "stream",
          "name": "stdout",
          "text": [
            "key 0: value 0\n",
            "key 1: value 10\n",
            "key 2: value 20\n",
            "key 3: value 30\n",
            "key 4: value 40\n",
            "key 5: value 50\n",
            "key 6: value 60\n",
            "key 7: value 70\n",
            "key 8: value 80\n",
            "key 9: value 90\n",
            "key 10: value 100\n",
            "key 11: value 110\n",
            "key 12: value 120\n",
            "key 13: value 130\n",
            "key 14: value 140\n"
          ]
        }
      ]
    },
    {
      "cell_type": "code",
      "source": [
        "# Functions\n",
        "\n",
        "def sub(a_val, b_val):\n",
        "  return a_val-b_val\n",
        "\n",
        "a=2\n",
        "b=1\n",
        "\n",
        "print(sub(a,b))\n",
        "print(sub(b,a))\n",
        "print(sub(b_val=b, a_val=a))\n",
        "print(sub(a_val=a, b_val=b))"
      ],
      "metadata": {
        "colab": {
          "base_uri": "https://localhost:8080/"
        },
        "id": "xTfUDYFkOWj8",
        "outputId": "36158a2d-a46d-4be1-e847-848b4ec99dd8"
      },
      "execution_count": 38,
      "outputs": [
        {
          "output_type": "stream",
          "name": "stdout",
          "text": [
            "1\n",
            "-1\n",
            "1\n",
            "1\n"
          ]
        }
      ]
    },
    {
      "cell_type": "code",
      "source": [
        "#Classes\n",
        "class Dog:\n",
        "  def __init__(self,name):\n",
        "    self.name = name\n",
        "\n",
        "  def sit(self):\n",
        "    print(self.name, 'is sitting')\n",
        "\n",
        "dog = Dog('Lucky')\n",
        "dog.sit()"
      ],
      "metadata": {
        "colab": {
          "base_uri": "https://localhost:8080/"
        },
        "id": "-RK1UQZRO2Vj",
        "outputId": "41822e44-40e5-4589-a0ee-d4e90ae34682"
      },
      "execution_count": 41,
      "outputs": [
        {
          "output_type": "stream",
          "name": "stdout",
          "text": [
            "Lucky is sitting\n"
          ]
        }
      ]
    },
    {
      "cell_type": "code",
      "source": [
        "#Function and Class\n",
        "class Cat:\n",
        "    \n",
        "    def __init__(self, breed):\n",
        "        assert breed in ['Balinese', 'Bengal'], 'breed not understood'\n",
        "        self.breed = breed\n",
        "        \n",
        "    def pet(self):\n",
        "        if self.breed == 'Balinese':\n",
        "            print('meow')\n",
        "        elif self.breed == 'Bengal':\n",
        "            print('purr')\n",
        "        else:\n",
        "            print('??')"
      ],
      "metadata": {
        "id": "L5ryceGAPkSS"
      },
      "execution_count": 42,
      "outputs": []
    },
    {
      "cell_type": "code",
      "source": [
        "import random\n",
        "### BEGIN SOLUTION\n",
        "class CrazyCatLady:\n",
        "    \n",
        "    cat_names = ['Oscar', 'Max', 'Tiger', 'Sam', 'Misty', 'Simba', \n",
        "                 'Coco'\t, 'Chloe', 'Lucy' ,  'Missy', 'Molly', 'Tigger', \n",
        "                 'Smokey', 'Milo', 'Cleo']\n",
        "    \n",
        "    def __init__(self):\n",
        "        self.cats = 10*[Cat('Balinese')] + 5*[Cat('Bengal')]\n",
        "    \n",
        "    def throw(self):\n",
        "        self.cats.pop()\n",
        "    \n",
        "    def talk_to_cats(self):\n",
        "       return {n: cat for n, cat in zip(random.choices(self.cat_names, k=len(self.cats)), self.cats)}\n",
        "        \n",
        "### END SOLUTION\n",
        "ccl = CrazyCatLady()\n",
        "ccl.throw()\n",
        "ccl.throw()\n",
        "ccl.throw()\n",
        "ccl.throw()\n",
        "print(ccl.talk_to_cats())\n",
        "ccl.throw()\n",
        "ccl.throw()\n",
        "ccl.throw()\n",
        "ccl.talk_to_cats()"
      ],
      "metadata": {
        "colab": {
          "base_uri": "https://localhost:8080/"
        },
        "id": "qa9JTIZzProu",
        "outputId": "763c68a3-fc6f-4595-9106-23246b563a19"
      },
      "execution_count": 43,
      "outputs": [
        {
          "output_type": "stream",
          "name": "stdout",
          "text": [
            "{'Cleo': <__main__.Cat object at 0x7f5438fca650>, 'Missy': <__main__.Cat object at 0x7f5438fca650>, 'Milo': <__main__.Cat object at 0x7f5438fca650>, 'Chloe': <__main__.Cat object at 0x7f5438fca650>, 'Molly': <__main__.Cat object at 0x7f5438eaa290>, 'Lucy': <__main__.Cat object at 0x7f5438fca650>, 'Max': <__main__.Cat object at 0x7f5438fca650>, 'Smokey': <__main__.Cat object at 0x7f5438fca650>}\n"
          ]
        },
        {
          "output_type": "execute_result",
          "data": {
            "text/plain": [
              "{'Molly': <__main__.Cat at 0x7f5438fca650>,\n",
              " 'Oscar': <__main__.Cat at 0x7f5438fca650>,\n",
              " 'Sam': <__main__.Cat at 0x7f5438fca650>,\n",
              " 'Tiger': <__main__.Cat at 0x7f5438fca650>,\n",
              " 'Tigger': <__main__.Cat at 0x7f5438fca650>}"
            ]
          },
          "metadata": {},
          "execution_count": 43
        }
      ]
    },
    {
      "cell_type": "code",
      "source": [
        "#Outlook numerical computing\n",
        "A = [\n",
        "    [1, 2, 3],\n",
        "    [4, 5, 6],\n",
        "]\n",
        "B = [\n",
        "    [7, 8],\n",
        "    [9, 10],\n",
        "    [11, 12],\n",
        "]\n",
        "C = [\n",
        "    [0, 0],\n",
        "    [0, 0],\n",
        "]\n",
        "\n",
        "# C = A * B\n",
        "for i, a_ in enumerate(A):\n",
        "    for a, b_ in zip(a_, B):\n",
        "        for j, b in enumerate(b_):\n",
        "            C[i][j] += a * b\n",
        "\n",
        "C"
      ],
      "metadata": {
        "colab": {
          "base_uri": "https://localhost:8080/"
        },
        "id": "YSzfhuPCP1sN",
        "outputId": "ed05fc24-04a3-4d99-964e-fb6c1847fc4b"
      },
      "execution_count": 44,
      "outputs": [
        {
          "output_type": "execute_result",
          "data": {
            "text/plain": [
              "[[58, 64], [139, 154]]"
            ]
          },
          "metadata": {},
          "execution_count": 44
        }
      ]
    },
    {
      "cell_type": "code",
      "source": [
        "import numpy as np\n",
        "np.matmul(A, B)"
      ],
      "metadata": {
        "colab": {
          "base_uri": "https://localhost:8080/"
        },
        "id": "TtDWNwhZQFuS",
        "outputId": "ab53f51d-9123-40d8-f302-907ce8b369d0"
      },
      "execution_count": 45,
      "outputs": [
        {
          "output_type": "execute_result",
          "data": {
            "text/plain": [
              "array([[ 58,  64],\n",
              "       [139, 154]])"
            ]
          },
          "metadata": {},
          "execution_count": 45
        }
      ]
    }
  ],
  "metadata": {
    "kernelspec": {
      "display_name": "Python 3",
      "language": "python",
      "name": "python3"
    },
    "language_info": {
      "codemirror_mode": {
        "name": "ipython",
        "version": 3
      },
      "file_extension": ".py",
      "mimetype": "text/x-python",
      "name": "python",
      "nbconvert_exporter": "python",
      "pygments_lexer": "ipython3",
      "version": "3.6.10"
    },
    "colab": {
      "name": "01_introduction.ipynb",
      "provenance": [],
      "collapsed_sections": []
    }
  },
  "nbformat": 4,
  "nbformat_minor": 0
}